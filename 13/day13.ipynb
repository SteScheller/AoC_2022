{
 "cells": [
  {
   "cell_type": "markdown",
   "metadata": {},
   "source": [
    "https://adventofcode.com/2022/day/13"
   ]
  },
  {
   "cell_type": "code",
   "execution_count": 1,
   "metadata": {},
   "outputs": [],
   "source": [
    "import re\n",
    "import itertools as it\n",
    "from typing import Optional\n",
    "from functools import cmp_to_key\n",
    "\n",
    "Packet = list[int, list[\"Packet\"]]\n",
    "Pair = tuple[Packet, Packet]\n",
    "\n",
    "\n",
    "def parsePackets(input_file: str) -> list[Pair]:\n",
    "    with open(input_file) as f:\n",
    "        text = f.read()\n",
    "\n",
    "    packets = list()\n",
    "    for pair in text.split(\"\\n\\n\"):\n",
    "        groups = re.search(r\"([\\[\\],\\d]+)\\s+([\\[\\],\\d]+)\", pair).groups()\n",
    "        lr = tuple(map(lambda x: eval(x.strip()), groups))\n",
    "        packets.append(lr)\n",
    "\n",
    "    return packets\n",
    "\n",
    "\n",
    "def isRightOrder(left: Packet, right: Packet) -> Optional[bool]:\n",
    "    for l, r in it.zip_longest(left, right):\n",
    "        tl, tr = type(l), type(r)\n",
    "        result = None\n",
    "        if (l is None) and (r is not None):\n",
    "            result = True\n",
    "        elif (l is not None) and (r is None):\n",
    "            result = False\n",
    "        elif all([t is int for t in (tl, tr)]):\n",
    "            if l < r:\n",
    "                result = True\n",
    "            elif l > r:\n",
    "                result = False\n",
    "        elif all([t is list for t in (tl, tr)]):\n",
    "            result = isRightOrder(l, r)\n",
    "        elif tl is int and tr is list:\n",
    "            result = isRightOrder([l], r)\n",
    "        elif tl is list and tr is int:\n",
    "            result = isRightOrder(l, [r])\n",
    "        else:\n",
    "            assert False, f\"Unhandled case: {tl=}, {tr=}\"\n",
    "\n",
    "        if result is not None:\n",
    "            return result\n",
    "\n",
    "    return None\n",
    "\n",
    "\n",
    "def solvePart1(pairs: list[Pair]) -> int:\n",
    "    indices = [i for i, p in enumerate(pairs, 1) if isRightOrder(*p)]\n",
    "    return sum(indices)\n",
    "\n",
    "\n",
    "def solvePart2(pairs: list[Pair]) -> int:\n",
    "    START, END = [[2]], [[6]]\n",
    "    packets = [START, END]\n",
    "    for p in pairs:\n",
    "        packets.extend(p)\n",
    "\n",
    "    cmp = lambda l, r: -1 if isRightOrder(l, r) else (1 if isRightOrder(l, r) is not None else 0)\n",
    "    packets.sort(key=cmp_to_key(cmp))\n",
    "\n",
    "    return (packets.index(START) + 1) * (packets.index(END) + 1)\n"
   ]
  },
  {
   "cell_type": "code",
   "execution_count": 2,
   "metadata": {},
   "outputs": [],
   "source": [
    "packets = parsePackets(\"test_input.txt\")\n",
    "\n",
    "result, expected = solvePart1(packets), 13\n",
    "assert result == expected, f\"Part 1: {result=} is wrong ({expected=})\"\n",
    "\n",
    "result, expected = solvePart2(packets), 140\n",
    "assert result == expected, f\"Part 2: {result=} is wrong ({expected=})\"\n"
   ]
  },
  {
   "cell_type": "code",
   "execution_count": 3,
   "metadata": {},
   "outputs": [
    {
     "name": "stdout",
     "output_type": "stream",
     "text": [
      "6428\n",
      "22464\n"
     ]
    }
   ],
   "source": [
    "packets = parsePackets(\"input.txt\")\n",
    "\n",
    "print(solvePart1(packets))\n",
    "print(solvePart2(packets))"
   ]
  }
 ],
 "metadata": {
  "kernelspec": {
   "display_name": "Python 3.9.7 64-bit",
   "language": "python",
   "name": "python3"
  },
  "language_info": {
   "codemirror_mode": {
    "name": "ipython",
    "version": 3
   },
   "file_extension": ".py",
   "mimetype": "text/x-python",
   "name": "python",
   "nbconvert_exporter": "python",
   "pygments_lexer": "ipython3",
   "version": "3.9.7"
  },
  "orig_nbformat": 4,
  "vscode": {
   "interpreter": {
    "hash": "81794d4967e6c3204c66dcd87b604927b115b27c00565d3d43f05ba2f3a2cb0d"
   }
  }
 },
 "nbformat": 4,
 "nbformat_minor": 2
}

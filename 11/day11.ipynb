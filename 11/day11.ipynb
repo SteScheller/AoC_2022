{
 "cells": [
  {
   "cell_type": "markdown",
   "metadata": {},
   "source": [
    "https://adventofcode.com/2022/day/11"
   ]
  },
  {
   "cell_type": "code",
   "execution_count": 1,
   "metadata": {},
   "outputs": [],
   "source": [
    "import re\n",
    "import operator\n",
    "from dataclasses import dataclass\n",
    "from functools import partial, reduce\n",
    "from math import floor, lcm\n",
    "from copy import deepcopy\n",
    "from typing import Callable\n",
    "\n",
    "\n",
    "# just taking a shortcut here for security reasons 😅\n",
    "operationMap = {\n",
    "    \"new = old * 19\": lambda x: x * 19,\n",
    "    \"new = old + 6\": lambda x: x + 6,\n",
    "    \"new = old * old\": lambda x: x * x,\n",
    "    \"new = old + 3\": lambda x: x + 3,\n",
    "    \"new = old * 7\": lambda x: x * 7,\n",
    "    \"new = old * 13\": lambda x: x * 13,\n",
    "    \"new = old + 1\": lambda x: x + 1,\n",
    "    \"new = old + 7\": lambda x: x + 7,\n",
    "    \"new = old + 4\": lambda x: x + 4,\n",
    "    \"new = old + 8\": lambda x: x + 8,\n",
    "}\n",
    "\n",
    "\n",
    "@dataclass\n",
    "class Monkey:\n",
    "    items: list[int]\n",
    "    operation: Callable[[int], int]\n",
    "    test: Callable[[int], int]\n",
    "    counter: int = 0\n",
    "\n",
    "\n",
    "def parseMonkeys(input_file: str) -> list[Monkey]:\n",
    "    with open(input_file) as f:\n",
    "        text = f.read()\n",
    "\n",
    "    monkeys = list()\n",
    "    testTemplate = lambda x, div, mTrue, mFalse: mTrue if not (x % div) else mFalse\n",
    "    for item in text.split(\"\\n\\n\"):\n",
    "        lines = item.splitlines()\n",
    "        items = list(map(lambda x: int(x.strip()), lines[1].split(\": \")[1].split(\",\")))\n",
    "        operation = operationMap[lines[2].split(\":\")[1].strip()]\n",
    "        div, mTrue, mFalse = map(lambda l: int(re.search(r\"(\\d+)\", l)[0]), lines[3:])\n",
    "        test = partial(testTemplate, div=div, mTrue=mTrue, mFalse=mFalse)\n",
    "        monkeys.append(Monkey(items=items, operation=operation, test=test))\n",
    "\n",
    "    return monkeys\n",
    "\n",
    "\n",
    "def solvePart1(monkeys: list[Monkey]) -> int:\n",
    "    for _ in range(20):\n",
    "        for m in monkeys:\n",
    "            for item in m.items:\n",
    "                m.counter += 1\n",
    "                level = m.operation(item)\n",
    "                level = floor(level / 3)\n",
    "                monkeys[m.test(level)].items.append(level)\n",
    "            m.items = list()\n",
    "\n",
    "    return reduce(operator.mul, sorted([m.counter for m in monkeys], reverse=True)[:2], 1)\n",
    "\n",
    "\n",
    "def solvePart2(monkeys: list[Monkey]) -> int:\n",
    "    common = lcm(*[m.test.keywords[\"div\"] for m in monkeys])\n",
    "    for _ in range(10000):\n",
    "        for m in monkeys:\n",
    "            for item in m.items:\n",
    "                m.counter += 1\n",
    "                level = m.operation(item)\n",
    "                monkeys[m.test(level)].items.append(level % common)\n",
    "            m.items = list()\n",
    "\n",
    "    return reduce(operator.mul, sorted([m.counter for m in monkeys], reverse=True)[:2], 1)\n"
   ]
  },
  {
   "cell_type": "code",
   "execution_count": 2,
   "metadata": {},
   "outputs": [],
   "source": [
    "monkeys = parseMonkeys(\"test_input.txt\")\n",
    "\n",
    "result, expected = solvePart1(deepcopy(monkeys)), 10605\n",
    "assert result == expected, f\"Part 1: {result=} is wrong ({expected=})\"\n",
    "\n",
    "result, expected = solvePart2(deepcopy(monkeys)), 2713310158\n",
    "assert result == expected, f\"Part 2: {result=} is wrong ({expected=})\""
   ]
  },
  {
   "cell_type": "code",
   "execution_count": 3,
   "metadata": {},
   "outputs": [
    {
     "name": "stdout",
     "output_type": "stream",
     "text": [
      "78960\n",
      "14561971968\n"
     ]
    }
   ],
   "source": [
    "monkeys = parseMonkeys(\"input.txt\")\n",
    "\n",
    "print(solvePart1(deepcopy(monkeys)))\n",
    "print(solvePart2(deepcopy(monkeys)))"
   ]
  }
 ],
 "metadata": {
  "kernelspec": {
   "display_name": "Python 3.9.7 64-bit",
   "language": "python",
   "name": "python3"
  },
  "language_info": {
   "codemirror_mode": {
    "name": "ipython",
    "version": 3
   },
   "file_extension": ".py",
   "mimetype": "text/x-python",
   "name": "python",
   "nbconvert_exporter": "python",
   "pygments_lexer": "ipython3",
   "version": "3.9.7"
  },
  "orig_nbformat": 4,
  "vscode": {
   "interpreter": {
    "hash": "81794d4967e6c3204c66dcd87b604927b115b27c00565d3d43f05ba2f3a2cb0d"
   }
  }
 },
 "nbformat": 4,
 "nbformat_minor": 2
}

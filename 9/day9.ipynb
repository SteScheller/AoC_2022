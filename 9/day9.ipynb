{
 "cells": [
  {
   "cell_type": "markdown",
   "metadata": {},
   "source": [
    "https://adventofcode.com/2022/day/9"
   ]
  },
  {
   "cell_type": "code",
   "execution_count": 1,
   "metadata": {},
   "outputs": [],
   "source": [
    "import math\n",
    "from enum import Enum\n",
    "from typing import NamedTuple\n",
    "\n",
    "import numpy as np\n",
    "\n",
    "\n",
    "class Direction(Enum):\n",
    "    UP = \"U\"\n",
    "    DOWN = \"D\"\n",
    "    LEFT = \"L\"\n",
    "    RIGHT = \"R\"\n",
    "\n",
    "\n",
    "class Movement(NamedTuple):\n",
    "    direction: Direction\n",
    "    steps: int\n",
    "\n",
    "\n",
    "Position = tuple[int, int]\n",
    "\n",
    "\n",
    "def parseMoves(input_file: str) -> list[Movement]:\n",
    "    with open(input_file) as f:\n",
    "        lines = f.readlines()\n",
    "\n",
    "    moves = list()\n",
    "    for l in lines:\n",
    "        d, s = l.strip().split(\" \")\n",
    "        moves.append(Movement(direction=Direction(d), steps=int(s)))\n",
    "\n",
    "    return moves\n",
    "\n",
    "\n",
    "def updateHead(head: Position, direction: Direction) -> Position:\n",
    "    if direction is Direction.UP:\n",
    "        result = (head[0], head[1] + 1)\n",
    "    elif direction is Direction.DOWN:\n",
    "        result = (head[0], head[1] - 1)\n",
    "    elif direction is Direction.LEFT:\n",
    "        result = (head[0] - 1, head[1])\n",
    "    elif direction is Direction.RIGHT:\n",
    "        result = (head[0] + 1, head[1])\n",
    "\n",
    "    return result\n",
    "\n",
    "\n",
    "def dragKnot(head: Position, tail: Position) -> Position:\n",
    "    h, t = map(np.array, (head, tail))\n",
    "    d = h - t\n",
    "\n",
    "    v = np.array((0, 0))\n",
    "    if np.linalg.norm(d) > math.sqrt(2):\n",
    "        v = tuple(map(lambda x: math.floor(x) if x < 0 else math.ceil(x), d / np.linalg.norm(d)))\n",
    "\n",
    "    return tuple(t + v)\n",
    "\n",
    "\n",
    "def solvePart1(moves: list[Movement]) -> int:\n",
    "    visited = set()\n",
    "\n",
    "    head = (0, 0)\n",
    "    tail = head\n",
    "    for m in moves:\n",
    "        for _ in range(m.steps):\n",
    "            head = updateHead(head, m.direction)\n",
    "            tail = dragKnot(head, tail)\n",
    "            visited.add(tail)\n",
    "\n",
    "    return len(visited)\n",
    "\n",
    "\n",
    "def solvePart2(moves: list[Movement]) -> int:\n",
    "    visited = set()\n",
    "\n",
    "    knots = [(0, 0) for _ in range(10)]\n",
    "    for m in moves:\n",
    "        for _ in range(m.steps):\n",
    "            knots[0] = updateHead(knots[0], m.direction)\n",
    "            for i in range(1, len(knots)):\n",
    "                knots[i] = dragKnot(knots[i - 1], knots[i])\n",
    "            visited.add(knots[-1])\n",
    "\n",
    "    return len(visited)\n"
   ]
  },
  {
   "cell_type": "code",
   "execution_count": 2,
   "metadata": {},
   "outputs": [],
   "source": [
    "moves = parseMoves(\"test_input.txt\")\n",
    "\n",
    "result, expected = solvePart1(moves), 13\n",
    "assert result == expected, f\"Part 1: {result=} is wrong ({expected=})\"\n",
    "\n",
    "result, expected = solvePart2(moves), 1\n",
    "assert result == expected, f\"Part 2: {result=} is wrong ({expected=})\""
   ]
  },
  {
   "cell_type": "code",
   "execution_count": 3,
   "metadata": {},
   "outputs": [
    {
     "name": "stdout",
     "output_type": "stream",
     "text": [
      "6037\n",
      "2485\n"
     ]
    }
   ],
   "source": [
    "moves = parseMoves(\"input.txt\")\n",
    "\n",
    "print(solvePart1(moves))\n",
    "print(solvePart2(moves))"
   ]
  }
 ],
 "metadata": {
  "kernelspec": {
   "display_name": "Python 3.9.7 64-bit",
   "language": "python",
   "name": "python3"
  },
  "language_info": {
   "codemirror_mode": {
    "name": "ipython",
    "version": 3
   },
   "file_extension": ".py",
   "mimetype": "text/x-python",
   "name": "python",
   "nbconvert_exporter": "python",
   "pygments_lexer": "ipython3",
   "version": "3.9.7"
  },
  "orig_nbformat": 4,
  "vscode": {
   "interpreter": {
    "hash": "81794d4967e6c3204c66dcd87b604927b115b27c00565d3d43f05ba2f3a2cb0d"
   }
  }
 },
 "nbformat": 4,
 "nbformat_minor": 2
}

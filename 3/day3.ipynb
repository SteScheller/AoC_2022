{
 "cells": [
  {
   "cell_type": "markdown",
   "metadata": {},
   "source": [
    "https://adventofcode.com/2022/day/3"
   ]
  },
  {
   "cell_type": "code",
   "execution_count": 1,
   "metadata": {},
   "outputs": [
    {
     "name": "stdout",
     "output_type": "stream",
     "text": [
      "7553\n",
      "2758\n"
     ]
    }
   ],
   "source": [
    "from string import ascii_letters\n",
    "\n",
    "with open(\"input.txt\") as f:\n",
    "    lines = f.read()\n",
    "lines = lines.split(\"\\n\")[:-1]\n",
    "\n",
    "# part 1\n",
    "common = list()\n",
    "for l in lines:\n",
    "    mid = len(l) // 2\n",
    "    first, second = set(l[:mid]), set(l[mid:])\n",
    "    common += list(first & second)\n",
    "\n",
    "# part 2\n",
    "badges = list()\n",
    "for i in range(0, len(lines), 3):\n",
    "    a, b, c = map(set, lines[i : i + 3])\n",
    "    badges.append((a & b & c).pop())\n",
    "\n",
    "cmap = {c: i for i, c in enumerate(ascii_letters, 1)}\n",
    "print(sum(map(lambda x: cmap[x], common)))\n",
    "print(sum(map(lambda x: cmap[x], badges)))\n"
   ]
  }
 ],
 "metadata": {
  "kernelspec": {
   "display_name": "Python 3.9.7 64-bit",
   "language": "python",
   "name": "python3"
  },
  "language_info": {
   "codemirror_mode": {
    "name": "ipython",
    "version": 3
   },
   "file_extension": ".py",
   "mimetype": "text/x-python",
   "name": "python",
   "nbconvert_exporter": "python",
   "pygments_lexer": "ipython3",
   "version": "3.9.7"
  },
  "orig_nbformat": 4,
  "vscode": {
   "interpreter": {
    "hash": "81794d4967e6c3204c66dcd87b604927b115b27c00565d3d43f05ba2f3a2cb0d"
   }
  }
 },
 "nbformat": 4,
 "nbformat_minor": 2
}

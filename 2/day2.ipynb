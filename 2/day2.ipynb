{
 "cells": [
  {
   "cell_type": "markdown",
   "metadata": {},
   "source": [
    "https://adventofcode.com/2022/day/2"
   ]
  },
  {
   "cell_type": "code",
   "execution_count": 1,
   "metadata": {},
   "outputs": [
    {
     "name": "stdout",
     "output_type": "stream",
     "text": [
      "9241\n",
      "14610\n"
     ]
    }
   ],
   "source": [
    "with open(\"input.txt\") as f:\n",
    "    lines = f.readlines()\n",
    "\n",
    "map1 = {\n",
    "    (\"A\", \"X\"): 3 + 1,\n",
    "    (\"A\", \"Y\"): 6 + 2,\n",
    "    (\"A\", \"Z\"): 0 + 3,\n",
    "    (\"B\", \"X\"): 0 + 1,\n",
    "    (\"B\", \"Y\"): 3 + 2,\n",
    "    (\"B\", \"Z\"): 6 + 3,\n",
    "    (\"C\", \"X\"): 6 + 1,\n",
    "    (\"C\", \"Y\"): 0 + 2,\n",
    "    (\"C\", \"Z\"): 3 + 3,\n",
    "}\n",
    "\n",
    "map2 = {\n",
    "    (\"A\", \"X\"): 3 + 0,\n",
    "    (\"A\", \"Y\"): 1 + 3,\n",
    "    (\"A\", \"Z\"): 2 + 6,\n",
    "    (\"B\", \"X\"): 1 + 0,\n",
    "    (\"B\", \"Y\"): 2 + 3,\n",
    "    (\"B\", \"Z\"): 3 + 6,\n",
    "    (\"C\", \"X\"): 2 + 0,\n",
    "    (\"C\", \"Y\"): 3 + 3,\n",
    "    (\"C\", \"Z\"): 1 + 6,\n",
    "}\n",
    "\n",
    "print(sum([map1[tuple(l.split())] for l in lines]))\n",
    "print(sum([map2[tuple(l.split())] for l in lines]))\n"
   ]
  },
  {
   "cell_type": "code",
   "execution_count": null,
   "metadata": {},
   "outputs": [],
   "source": []
  }
 ],
 "metadata": {
  "kernelspec": {
   "display_name": "Python 3.9.7 64-bit",
   "language": "python",
   "name": "python3"
  },
  "language_info": {
   "codemirror_mode": {
    "name": "ipython",
    "version": 3
   },
   "file_extension": ".py",
   "mimetype": "text/x-python",
   "name": "python",
   "nbconvert_exporter": "python",
   "pygments_lexer": "ipython3",
   "version": "3.9.7"
  },
  "orig_nbformat": 4,
  "vscode": {
   "interpreter": {
    "hash": "81794d4967e6c3204c66dcd87b604927b115b27c00565d3d43f05ba2f3a2cb0d"
   }
  }
 },
 "nbformat": 4,
 "nbformat_minor": 2
}

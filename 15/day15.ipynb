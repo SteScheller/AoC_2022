{
 "cells": [
  {
   "cell_type": "markdown",
   "metadata": {},
   "source": [
    "https://adventofcode.com/2022/day/15"
   ]
  },
  {
   "cell_type": "code",
   "execution_count": 1,
   "metadata": {},
   "outputs": [],
   "source": [
    "import re\n",
    "import functools\n",
    "from math import inf\n",
    "\n",
    "import numpy as np\n",
    "import itertools as it\n",
    "\n",
    "Point = tuple[int, int]\n",
    "Sensor = tuple[int, int]\n",
    "Beacon = tuple[int, int]\n",
    "\n",
    "\n",
    "def manhattan(p0: Point, p1: Point) -> int:\n",
    "    return sum(abs(first - second) for first, second in zip(p0, p1))\n",
    "\n",
    "\n",
    "def parseInput(input_file: str) -> tuple[list[Sensor], list[Beacon]]:\n",
    "    with open(input_file) as f:\n",
    "        lines = f.readlines()\n",
    "\n",
    "    sensors, beacons, distances = list(), list(), list()\n",
    "    for l in lines:\n",
    "        xs, ys, xb, yb = map(\n",
    "            int, re.search(r\"x=(-?\\d+),\\s+y=(-?\\d+).*x=(-?\\d+),\\s+y=(-?\\d+)\", l).groups()\n",
    "        )\n",
    "        sensors.append((xs, ys))\n",
    "        beacons.append((xb, yb))\n",
    "        distances.append(manhattan((xs, ys), (xb, yb)))\n",
    "\n",
    "    return (sensors, beacons, distances)\n",
    "\n",
    "\n",
    "def computeSensorXRanges(sensors: list[Sensor], distances: list[int], y: int) -> list[range]:\n",
    "    ranges = list()\n",
    "    for s, d in zip(sensors, distances):\n",
    "        xOffset = d - manhattan((s[0], y), s)\n",
    "        if xOffset >= 0:\n",
    "            ranges.append(range(s[0] - xOffset, s[0] + xOffset + 1))\n",
    "\n",
    "    return ranges\n",
    "\n",
    "\n",
    "def getLargestContainingRange(x: int, ranges: list[range]) -> range:\n",
    "    lrange, maxLen = None, 0\n",
    "    for r in ranges:\n",
    "        rLen = len(r)\n",
    "        if (x in r) and (rLen > maxLen):\n",
    "            lrange = r\n",
    "            maxLen = rLen\n",
    "\n",
    "    return lrange\n",
    "\n",
    "\n",
    "def solvePart1(sensors: list[Sensor], beacons: list[Beacon], distances: list[int], y: int) -> int:\n",
    "    ranges = computeSensorXRanges(sensors, distances, y)\n",
    "    rangeUnion = functools.reduce(lambda a, b: a | set(b), ranges, set())\n",
    "    xMin, xMax = min(rangeUnion), max(rangeUnion)\n",
    "\n",
    "    row = np.ones(xMax - xMin + 1, dtype=int)\n",
    "    for x in rangeUnion ^ set(range(xMin, xMax + 1)):\n",
    "        row[x - xMin] = 0\n",
    "    for x, _ in filter(lambda b: b[1] == y, beacons):\n",
    "        row[x - xMin] = 0\n",
    "\n",
    "    return sum(row)\n",
    "\n",
    "\n",
    "def solvePart2(\n",
    "    sensors: list[Sensor], beacons: list[Beacon], distances: list[int], xyLim: int\n",
    ") -> int:\n",
    "    x, y, xf, yf = 0, 0, 0, 0\n",
    "    found = False\n",
    "    for y in range(xyLim + 1):\n",
    "        ranges = computeSensorXRanges(sensors, distances, y)\n",
    "        x = 0\n",
    "        while x <= xyLim:\n",
    "            r = getLargestContainingRange(x, ranges)\n",
    "            if r is None:\n",
    "                rangeUnion = functools.reduce(lambda a, b: a | set(b), ranges, set())\n",
    "                maxXRange = set(range(xyLim + 1))\n",
    "                xf, yf = tuple(rangeUnion ^ maxXRange)[0], y\n",
    "                found = True\n",
    "                break\n",
    "            x = max(x + 1, r[-1])\n",
    "        if found:\n",
    "            break\n",
    "\n",
    "    return xf * 4_000_000 + yf\n"
   ]
  },
  {
   "cell_type": "code",
   "execution_count": 2,
   "metadata": {},
   "outputs": [],
   "source": [
    "sensors, beacons, distances = parseInput(\"test_input.txt\")\n",
    "\n",
    "result, expected = solvePart1(sensors, beacons, distances, 10), 26\n",
    "assert result == expected, f\"Part 1: {result=} is wrong ({expected=})\"\n",
    "\n",
    "result, expected = solvePart2(sensors, beacons, distances, 20), 56000011\n",
    "assert result == expected, f\"Part 2: {result=} is wrong ({expected=})\"\n"
   ]
  },
  {
   "cell_type": "code",
   "execution_count": 3,
   "metadata": {},
   "outputs": [
    {
     "name": "stdout",
     "output_type": "stream",
     "text": [
      "5112034\n",
      "13172087230812\n"
     ]
    }
   ],
   "source": [
    "sensors, beacons, distances = parseInput(\"input.txt\")\n",
    "\n",
    "print(solvePart1(sensors, beacons, distances, 2_000_000))\n",
    "print(solvePart2(sensors, beacons, distances, 4_000_000))"
   ]
  }
 ],
 "metadata": {
  "kernelspec": {
   "display_name": "Python 3.9.7 64-bit",
   "language": "python",
   "name": "python3"
  },
  "language_info": {
   "codemirror_mode": {
    "name": "ipython",
    "version": 3
   },
   "file_extension": ".py",
   "mimetype": "text/x-python",
   "name": "python",
   "nbconvert_exporter": "python",
   "pygments_lexer": "ipython3",
   "version": "3.9.7"
  },
  "orig_nbformat": 4,
  "vscode": {
   "interpreter": {
    "hash": "81794d4967e6c3204c66dcd87b604927b115b27c00565d3d43f05ba2f3a2cb0d"
   }
  }
 },
 "nbformat": 4,
 "nbformat_minor": 2
}

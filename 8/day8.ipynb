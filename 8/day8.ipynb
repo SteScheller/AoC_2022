{
 "cells": [
  {
   "cell_type": "markdown",
   "metadata": {},
   "source": [
    "https://adventofcode.com/2022/day/8"
   ]
  },
  {
   "cell_type": "code",
   "execution_count": 1,
   "metadata": {},
   "outputs": [],
   "source": [
    "import itertools as it\n",
    "import numpy as np\n",
    "\n",
    "\n",
    "def buildTreeGrid(input_file: str) -> np.ndarray:\n",
    "    with open(input_file) as f:\n",
    "        lines = f.readlines()\n",
    "\n",
    "    dim_x, dim_y = len(lines[0].strip()), len(lines)\n",
    "    grid = np.ones((dim_y, dim_x), dtype=int)\n",
    "    for x, y in it.product(range(dim_x), range(dim_y)):\n",
    "        grid[y, x] = lines[y][x]\n",
    "\n",
    "    return grid\n",
    "\n",
    "\n",
    "def solvePart1(grid: np.ndarray) -> int:\n",
    "    visible = 2 * (sum(grid.shape) - 2)\n",
    "\n",
    "    for y, x in it.product(range(1, grid.shape[0] - 1), range(1, grid.shape[1] - 1)):\n",
    "        h = grid[y, x]\n",
    "        sl, _, sr = np.split(grid[y, :], (x, x + 1))\n",
    "        st, _, sb = np.split(grid[:, x], (y, y + 1))\n",
    "        visible += 1 if any(map(lambda x: max(x) < h, (sl, sr, st, sb))) else 0\n",
    "\n",
    "    return visible\n",
    "\n",
    "\n",
    "def solvePart2(grid: np.ndarray) -> int:\n",
    "    scores = list()\n",
    "    for y, x in it.product(range(1, grid.shape[0] - 1), range(1, grid.shape[1] - 1)):\n",
    "        h = grid[y, x]\n",
    "        sl, _, sr = np.split(grid[y, :], (x, x + 1))\n",
    "        st, _, sb = np.split(grid[:, x], (y, y + 1))\n",
    "        sl, st = sl[::-1], st[::-1]\n",
    "        distances = list()\n",
    "        for v in (sl, sr, st, sb):\n",
    "            dist = 0\n",
    "            for d, x in enumerate(v, 1):\n",
    "                dist = d\n",
    "                if x >= h:\n",
    "                    break\n",
    "            distances.append(dist)\n",
    "        scores.append(np.prod(distances))\n",
    "\n",
    "    return max(scores)\n"
   ]
  },
  {
   "cell_type": "code",
   "execution_count": 2,
   "metadata": {},
   "outputs": [],
   "source": [
    "grid = buildTreeGrid(\"test_input.txt\")\n",
    "\n",
    "result, expected = solvePart1(grid), 21\n",
    "assert result == expected, f\"Part 1: {result=} is wrong ({expected=})\"\n",
    "\n",
    "result, expected = solvePart2(grid), 8\n",
    "assert result == expected, f\"Part 2: {result=} is wrong ({expected=})\""
   ]
  },
  {
   "cell_type": "code",
   "execution_count": 3,
   "metadata": {},
   "outputs": [
    {
     "name": "stdout",
     "output_type": "stream",
     "text": [
      "1840\n",
      "405769\n"
     ]
    }
   ],
   "source": [
    "grid = buildTreeGrid(\"input.txt\")\n",
    "\n",
    "print(solvePart1(grid))\n",
    "print(solvePart2(grid))"
   ]
  }
 ],
 "metadata": {
  "kernelspec": {
   "display_name": "Python 3.9.7 64-bit",
   "language": "python",
   "name": "python3"
  },
  "language_info": {
   "codemirror_mode": {
    "name": "ipython",
    "version": 3
   },
   "file_extension": ".py",
   "mimetype": "text/x-python",
   "name": "python",
   "nbconvert_exporter": "python",
   "pygments_lexer": "ipython3",
   "version": "3.9.7"
  },
  "orig_nbformat": 4,
  "vscode": {
   "interpreter": {
    "hash": "81794d4967e6c3204c66dcd87b604927b115b27c00565d3d43f05ba2f3a2cb0d"
   }
  }
 },
 "nbformat": 4,
 "nbformat_minor": 2
}

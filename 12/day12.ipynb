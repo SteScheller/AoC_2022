{
 "cells": [
  {
   "cell_type": "markdown",
   "metadata": {},
   "source": [
    "https://adventofcode.com/2022/day/12"
   ]
  },
  {
   "cell_type": "code",
   "execution_count": 1,
   "metadata": {},
   "outputs": [],
   "source": [
    "import itertools as it\n",
    "from math import inf\n",
    "from typing import NamedTuple\n",
    "from string import ascii_lowercase\n",
    "\n",
    "import numpy as np\n",
    "import networkx as nx\n",
    "\n",
    "Node = tuple[int, int]\n",
    "\n",
    "\n",
    "class Heightmap(NamedTuple):\n",
    "    array: np.array\n",
    "    graph: nx.DiGraph\n",
    "    start: Node\n",
    "    end: Node\n",
    "\n",
    "\n",
    "def parseHeightmap(input_file: str) -> Heightmap:\n",
    "    with open(input_file) as f:\n",
    "        lines = f.readlines()\n",
    "\n",
    "    def mapCharToHeight(c: str) -> int:\n",
    "        if c in ascii_lowercase:\n",
    "            h = ord(c) - 96\n",
    "        elif c == \"S\":\n",
    "            h = 0\n",
    "        elif c == \"E\":\n",
    "            h = 27\n",
    "        return h\n",
    "\n",
    "    arr = np.zeros((len(lines), len(lines[0].strip())))\n",
    "    for row, l in enumerate(lines):\n",
    "        for col, c in enumerate(l.strip()):\n",
    "            arr[row, col] = mapCharToHeight(c)\n",
    "            if c == \"S\":\n",
    "                start = (col, row)\n",
    "            elif c == \"E\":\n",
    "                end = (col, row)\n",
    "\n",
    "    def getEdgeCost(u: Node, v: Node) -> float:\n",
    "        if arr[v[1], v[0]] <= (arr[u[1], u[0]] + 1):\n",
    "            return 1\n",
    "        else:\n",
    "            return inf\n",
    "\n",
    "    graph = nx.DiGraph()\n",
    "    for y, x in it.product(*map(range, arr.shape)):\n",
    "        u = (x, y)\n",
    "        if x > 0:\n",
    "            v = (x - 1, y)\n",
    "            graph.add_edge(u, v, cost=getEdgeCost(u, v))\n",
    "        if (x + 1) < arr.shape[1]:\n",
    "            v = (x + 1, y)\n",
    "            graph.add_edge(u, v, cost=getEdgeCost(u, v))\n",
    "        if y > 0:\n",
    "            v = (x, y - 1)\n",
    "            graph.add_edge(u, v, cost=getEdgeCost(u, v))\n",
    "        if (y + 1) < arr.shape[0]:\n",
    "            v = (x, y + 1)\n",
    "            graph.add_edge(u, v, cost=getEdgeCost(u, v))\n",
    "\n",
    "    return Heightmap(array=arr, graph=graph, start=start, end=end)\n",
    "\n",
    "\n",
    "def solvePart1(heightmap: Heightmap) -> int:\n",
    "    length = nx.shortest_path_length(\n",
    "        heightmap.graph, source=heightmap.start, target=heightmap.end, weight=\"cost\"\n",
    "    )\n",
    "    return length\n",
    "\n",
    "\n",
    "def solvePart2(heightmap: Heightmap) -> int:\n",
    "    starts = [\n",
    "        (x, y)\n",
    "        for y, x in it.product(*map(range, heightmap.array.shape))\n",
    "        if heightmap.array[y, x] <= 1\n",
    "    ]\n",
    "    lengths = [\n",
    "        nx.shortest_path_length(heightmap.graph, source=start, target=heightmap.end, weight=\"cost\")\n",
    "        for start in starts\n",
    "    ]\n",
    "    return min(lengths)\n"
   ]
  },
  {
   "cell_type": "code",
   "execution_count": 2,
   "metadata": {},
   "outputs": [
    {
     "data": {
      "image/png": "[encoded data removed]",
      "text/plain": [
       "<Figure size 432x288 with 1 Axes>"
      ]
     },
     "metadata": {
      "needs_background": "light"
     },
     "output_type": "display_data"
    }
   ],
   "source": [
    "import matplotlib.pyplot as plt\n",
    "\n",
    "heightmap = parseHeightmap(\"test_input.txt\")\n",
    "plt.imshow(heightmap.array)\n",
    "\n",
    "result, expected = solvePart1(heightmap), 31\n",
    "assert result == expected, f\"Part 1: {result=} is wrong ({expected=})\"\n",
    "\n",
    "result, expected = solvePart2(heightmap), 29\n",
    "assert result == expected, f\"Part 2: {result=} is wrong ({expected=})\"\n"
   ]
  },
  {
   "cell_type": "code",
   "execution_count": 3,
   "metadata": {},
   "outputs": [
    {
     "name": "stdout",
     "output_type": "stream",
     "text": [
      "341\n",
      "↪ actual solution was 339 (lucky guess following the hint that my solution was too high)\n",
      "\n",
      "334\n",
      "↪ actual solution was 332 (lucky guess following the hint that my solution was too high)\n",
      "\n"
     ]
    },
    {
     "data": {
      "image/png": "[encoded data removed]",
      "text/plain": [
       "<Figure size 432x288 with 1 Axes>"
      ]
     },
     "metadata": {
      "needs_background": "light"
     },
     "output_type": "display_data"
    }
   ],
   "source": [
    "heightmap = parseHeightmap(\"input.txt\")\n",
    "plt.imshow(heightmap.array)\n",
    "\n",
    "print(solvePart1(heightmap))\n",
    "print(\"↪ actual solution was 339 (lucky guess following the hint that my solution was too high)\\n\")\n",
    "print(solvePart2(heightmap))\n",
    "print(\"↪ actual solution was 332 (lucky guess following the hint that my solution was too high)\\n\")"
   ]
  }
 ],
 "metadata": {
  "kernelspec": {
   "display_name": "Python 3.9.7 64-bit",
   "language": "python",
   "name": "python3"
  },
  "language_info": {
   "codemirror_mode": {
    "name": "ipython",
    "version": 3
   },
   "file_extension": ".py",
   "mimetype": "text/x-python",
   "name": "python",
   "nbconvert_exporter": "python",
   "pygments_lexer": "ipython3",
   "version": "3.9.7"
  },
  "orig_nbformat": 4,
  "vscode": {
   "interpreter": {
    "hash": "81794d4967e6c3204c66dcd87b604927b115b27c00565d3d43f05ba2f3a2cb0d"
   }
  }
 },
 "nbformat": 4,
 "nbformat_minor": 2
}

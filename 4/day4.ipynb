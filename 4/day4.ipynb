{
 "cells": [
  {
   "cell_type": "markdown",
   "metadata": {},
   "source": [
    "https://adventofcode.com/2022/day/4"
   ]
  },
  {
   "cell_type": "code",
   "execution_count": 1,
   "metadata": {},
   "outputs": [
    {
     "name": "stdout",
     "output_type": "stream",
     "text": [
      "444\n",
      "801\n"
     ]
    }
   ],
   "source": [
    "with open(\"input.txt\") as f:\n",
    "    lines = f.read()\n",
    "lines = lines.split(\"\\n\")[:-1]\n",
    "\n",
    "contained, overlaps = 0, 0\n",
    "for l in lines:\n",
    "    first, second = l.split(',')\n",
    "    first, second = list(map(int, first.split('-'))), list(map(int, second.split('-')))\n",
    "    first, second = set(range(first[0], first[1] + 1)), set(range(second[0], second[1] + 1))\n",
    "    if (first.issubset(second)) or (second.issubset(first)):\n",
    "        contained += 1\n",
    "    if not first.isdisjoint(second):\n",
    "        overlaps += 1\n",
    "\n",
    "print(contained)\n",
    "print(overlaps)"
   ]
  }
 ],
 "metadata": {
  "kernelspec": {
   "display_name": "Python 3.9.7 64-bit",
   "language": "python",
   "name": "python3"
  },
  "language_info": {
   "codemirror_mode": {
    "name": "ipython",
    "version": 3
   },
   "file_extension": ".py",
   "mimetype": "text/x-python",
   "name": "python",
   "nbconvert_exporter": "python",
   "pygments_lexer": "ipython3",
   "version": "3.9.7"
  },
  "orig_nbformat": 4,
  "vscode": {
   "interpreter": {
    "hash": "81794d4967e6c3204c66dcd87b604927b115b27c00565d3d43f05ba2f3a2cb0d"
   }
  }
 },
 "nbformat": 4,
 "nbformat_minor": 2
}

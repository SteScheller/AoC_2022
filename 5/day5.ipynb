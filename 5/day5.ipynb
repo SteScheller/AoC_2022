{
 "cells": [
  {
   "cell_type": "markdown",
   "metadata": {},
   "source": [
    "https://adventofcode.com/2022/day/5"
   ]
  },
  {
   "cell_type": "code",
   "execution_count": 1,
   "metadata": {},
   "outputs": [
    {
     "name": "stdout",
     "output_type": "stream",
     "text": [
      "RNZLFZSJH\n",
      "CNSFCGJSM\n"
     ]
    }
   ],
   "source": [
    "import re\n",
    "from copy import deepcopy\n",
    "\n",
    "with open(\"input.txt\") as f:\n",
    "    lines = f.readlines()\n",
    "\n",
    "stacks1 = [\n",
    "    list(\"HRBDZFLS\"),\n",
    "    list(\"TBMZR\"),\n",
    "    list(\"ZLCHNS\"),\n",
    "    list(\"SCFJ\"),\n",
    "    list(\"PGHWRZB\"),\n",
    "    list(\"VJZGDNMT\"),\n",
    "    list(\"GLNWFSPQ\"),\n",
    "    list(\"MZR\"),\n",
    "    list(\"MCLGVRT\"),\n",
    "]\n",
    "stacks2 = deepcopy(stacks1)\n",
    "\n",
    "for l in lines[10:]:\n",
    "    num, src, dst = map(int, re.search(r\"^move (\\d+) from (\\d+) to (\\d+)\", l).groups())\n",
    "    for _ in range(num):\n",
    "        stacks1[dst - 1].append(stacks1[src - 1].pop())\n",
    "    stacks2[dst - 1].extend(stacks2[src - 1][-num:])\n",
    "    stacks2[src - 1] = stacks2[src - 1][:-num]\n",
    "\n",
    "print(\"\".join(x[-1] if len(x) > 0 else \"\" for x in stacks1))\n",
    "print(\"\".join(x[-1] if len(x) > 0 else \"\" for x in stacks2))\n"
   ]
  }
 ],
 "metadata": {
  "kernelspec": {
   "display_name": "Python 3.9.7 64-bit",
   "language": "python",
   "name": "python3"
  },
  "language_info": {
   "codemirror_mode": {
    "name": "ipython",
    "version": 3
   },
   "file_extension": ".py",
   "mimetype": "text/x-python",
   "name": "python",
   "nbconvert_exporter": "python",
   "pygments_lexer": "ipython3",
   "version": "3.9.7"
  },
  "orig_nbformat": 4,
  "vscode": {
   "interpreter": {
    "hash": "81794d4967e6c3204c66dcd87b604927b115b27c00565d3d43f05ba2f3a2cb0d"
   }
  }
 },
 "nbformat": 4,
 "nbformat_minor": 2
}

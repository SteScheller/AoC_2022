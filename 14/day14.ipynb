{
 "cells": [
  {
   "cell_type": "markdown",
   "metadata": {},
   "source": [
    "https://adventofcode.com/2022/day/14"
   ]
  },
  {
   "cell_type": "code",
   "execution_count": 1,
   "metadata": {},
   "outputs": [],
   "source": [
    "import operator\n",
    "import itertools as it\n",
    "from copy import deepcopy\n",
    "from enum import Enum\n",
    "from typing import Optional\n",
    "\n",
    "import numpy as np\n",
    "\n",
    "\n",
    "class Field(Enum):\n",
    "    AIR = 0\n",
    "    ROCK = 1\n",
    "    SAND = 2\n",
    "\n",
    "\n",
    "Sand = tuple[int, int]\n",
    "\n",
    "\n",
    "def parseField(input_file: str) -> np.array:\n",
    "    with open(input_file) as f:\n",
    "        text = f.read()\n",
    "\n",
    "    rockLines = list()\n",
    "    dimx, dimy = 0, 0\n",
    "    for l in text.splitlines():\n",
    "        line = [tuple(map(lambda x: int(x.strip()), sxy.split(\",\"))) for sxy in l.split(\"->\")]\n",
    "        rockLines.append(line)\n",
    "        dimx, dimy = max([dimx] + [x for x, _ in line]), max([dimy] + [y for _, y in line])\n",
    "\n",
    "    field = Field.AIR.value * np.ones((dimy + 1, dimx + 1), dtype=int)\n",
    "    for rl in rockLines:\n",
    "        for i in range(len(rl) - 1):\n",
    "            start, end = map(np.array, (rl[i], rl[i + 1]))\n",
    "            p = deepcopy(start)\n",
    "            dx = 1 if start[0] < end[0] else -1 if start[0] > end[0] else 0\n",
    "            dy = 1 if start[1] < end[1] else -1 if start[1] > end[1] else 0\n",
    "            while not all(p == end):\n",
    "                field[p[1], p[0]] = Field.ROCK.value\n",
    "                p += (dx, dy)\n",
    "            field[p[1], p[0]] = Field.ROCK.value\n",
    "\n",
    "    return field\n",
    "\n",
    "\n",
    "def updateField(grain: Sand, field: np.array) -> Optional[Sand]:\n",
    "    if field[grain[1], grain[0]] != Field.AIR.value:\n",
    "        result = grain\n",
    "    elif field[grain[1] + 1, grain[0]] == Field.AIR.value:\n",
    "        result = Sand((grain[0], grain[1] + 1))\n",
    "    else:\n",
    "        if field[grain[1] + 1, grain[0] - 1] == Field.AIR.value:\n",
    "            result = Sand((grain[0] - 1, grain[1] + 1))\n",
    "        elif field[grain[1] + 1, grain[0] + 1] == Field.AIR.value:\n",
    "            result = Sand((grain[0] + 1, grain[1] + 1))\n",
    "        else:\n",
    "            result = None\n",
    "            field[grain[1], grain[0]] = Field.SAND.value\n",
    "\n",
    "    return result\n",
    "\n",
    "\n",
    "def solvePart1(field: np.array) -> int:\n",
    "    SEED = (500, 0)\n",
    "    g = None\n",
    "    while True:\n",
    "        if g is None:\n",
    "            g = Sand(SEED)\n",
    "        try:\n",
    "            g = updateField(g, field)\n",
    "        except IndexError:\n",
    "            break\n",
    "    return sum((field == Field.SAND.value).flatten())\n",
    "\n",
    "\n",
    "def solvePart2(field: np.array) -> int:\n",
    "    SEED = (500, 0)\n",
    "    for i in range(field.shape[0] - 1, -1, -1):\n",
    "        if any(field[i,:] != Field.AIR.value):\n",
    "            h = i + 2\n",
    "            break\n",
    "    field = np.pad(field, ((0,2),(0,0)))\n",
    "    field[h] = Field.ROCK.value\n",
    "\n",
    "    g = None\n",
    "    while True:\n",
    "        if g is None:\n",
    "            g = Sand(SEED)\n",
    "\n",
    "        g = updateField(g, field)\n",
    "\n",
    "        if g == SEED:\n",
    "            field[SEED[1], SEED[0]] = Field.SAND.value \n",
    "            break\n",
    "        elif (g is not None):\n",
    "            if g[0] == 0:\n",
    "                field = np.pad(field, ((0,0), (1,0)))\n",
    "                field[h] = Field.ROCK.value\n",
    "                SEED[0] += 1\n",
    "            elif g[0] == (field.shape[1] - 1):\n",
    "                field = np.pad(field, ((0,0), (0,1)))\n",
    "                field[h] = Field.ROCK.value\n",
    "\n",
    "    return sum((field == Field.SAND.value).flatten())\n"
   ]
  },
  {
   "cell_type": "code",
   "execution_count": 2,
   "metadata": {},
   "outputs": [],
   "source": [
    "field = parseField(\"test_input.txt\")\n",
    "\n",
    "result, expected = solvePart1(deepcopy(field)), 24\n",
    "assert result == expected, f\"Part 1: {result=} is wrong ({expected=})\"\n",
    "\n",
    "result, expected = solvePart2(deepcopy(field)), 93\n",
    "assert result == expected, f\"Part 2: {result=} is wrong ({expected=})\"\n"
   ]
  },
  {
   "cell_type": "code",
   "execution_count": 3,
   "metadata": {},
   "outputs": [
    {
     "name": "stdout",
     "output_type": "stream",
     "text": [
      "838\n",
      "27539\n"
     ]
    }
   ],
   "source": [
    "field = parseField(\"input.txt\")\n",
    "\n",
    "print(solvePart1(deepcopy(field)))\n",
    "print(solvePart2(deepcopy(field)))"
   ]
  }
 ],
 "metadata": {
  "kernelspec": {
   "display_name": "Python 3.9.7 64-bit",
   "language": "python",
   "name": "python3"
  },
  "language_info": {
   "codemirror_mode": {
    "name": "ipython",
    "version": 3
   },
   "file_extension": ".py",
   "mimetype": "text/x-python",
   "name": "python",
   "nbconvert_exporter": "python",
   "pygments_lexer": "ipython3",
   "version": "3.9.7"
  },
  "orig_nbformat": 4,
  "vscode": {
   "interpreter": {
    "hash": "81794d4967e6c3204c66dcd87b604927b115b27c00565d3d43f05ba2f3a2cb0d"
   }
  }
 },
 "nbformat": 4,
 "nbformat_minor": 2
}

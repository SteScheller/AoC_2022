{
 "cells": [
  {
   "cell_type": "markdown",
   "metadata": {},
   "source": [
    "https://adventofcode.com/2022/day/6"
   ]
  },
  {
   "cell_type": "code",
   "execution_count": 1,
   "metadata": {},
   "outputs": [
    {
     "name": "stdout",
     "output_type": "stream",
     "text": [
      "1578\n",
      "2178\n"
     ]
    }
   ],
   "source": [
    "with open(\"input.txt\") as f:\n",
    "    stream = f.read()\n",
    "\n",
    "SOP_SEQ_LENGTH, SOM_SEQ_LENGTH = 4, 14\n",
    "packetStart, messageStart = None, None\n",
    "for idx in range(len(stream)):\n",
    "    sop, som = map(set, (stream[idx:idx+SOP_SEQ_LENGTH], stream[idx:idx+SOM_SEQ_LENGTH]))\n",
    "    if not packetStart and len(sop) == SOP_SEQ_LENGTH:\n",
    "        packetStart = idx + SOP_SEQ_LENGTH\n",
    "    if len(som) == SOM_SEQ_LENGTH:\n",
    "        messageStart = idx + SOM_SEQ_LENGTH\n",
    "        break\n",
    "\n",
    "print(packetStart)\n",
    "print(messageStart)"
   ]
  }
 ],
 "metadata": {
  "kernelspec": {
   "display_name": "Python 3.9.7 64-bit",
   "language": "python",
   "name": "python3"
  },
  "language_info": {
   "codemirror_mode": {
    "name": "ipython",
    "version": 3
   },
   "file_extension": ".py",
   "mimetype": "text/x-python",
   "name": "python",
   "nbconvert_exporter": "python",
   "pygments_lexer": "ipython3",
   "version": "3.9.7"
  },
  "orig_nbformat": 4,
  "vscode": {
   "interpreter": {
    "hash": "81794d4967e6c3204c66dcd87b604927b115b27c00565d3d43f05ba2f3a2cb0d"
   }
  }
 },
 "nbformat": 4,
 "nbformat_minor": 2
}

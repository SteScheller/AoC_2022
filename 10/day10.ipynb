{
 "cells": [
  {
   "cell_type": "markdown",
   "metadata": {},
   "source": [
    "https://adventofcode.com/2022/day/10"
   ]
  },
  {
   "cell_type": "code",
   "execution_count": 1,
   "metadata": {},
   "outputs": [],
   "source": [
    "import re\n",
    "from enum import Enum\n",
    "from typing import Optional\n",
    "\n",
    "\n",
    "class Instruction(Enum):\n",
    "    ADDX = \"addx\"\n",
    "    NOOP = \"noop\"\n",
    "\n",
    "\n",
    "Command = tuple[Instruction, Optional[int]]\n",
    "\n",
    "\n",
    "def parseProgram(input_file: str) -> None:\n",
    "    with open(input_file) as f:\n",
    "        lines = f.readlines()\n",
    "\n",
    "    program = list()\n",
    "    for l in lines:\n",
    "        groups = re.search(r\"^(noop|addx)\\s*(-?\\d+)?$\", l.strip()).groups()\n",
    "        program.append((Instruction(groups[0]), int(groups[1]) if groups[1] else None))\n",
    "\n",
    "    return program\n",
    "\n",
    "\n",
    "def computeSignal(program: list[Command]) -> list[int]:\n",
    "    signal, x = list(), 1\n",
    "    for cmd, val in program:\n",
    "        if cmd == Instruction.NOOP:\n",
    "            signal.append(x)\n",
    "        elif cmd == Instruction.ADDX:\n",
    "            signal.extend((x, x))\n",
    "            x += val\n",
    "\n",
    "    return signal\n",
    "\n",
    "\n",
    "def solvePart1(program: list[Command]) -> int:\n",
    "    signal = computeSignal(program)\n",
    "    return sum(signal[i - 1] * i for i in range(20, 220 + 1, 40))\n",
    "\n",
    "\n",
    "def solvePart2(program: list[Command]) -> int:\n",
    "    signal = computeSignal(program)\n",
    "\n",
    "    crt = list(240 * \" \")\n",
    "    for t in range(len(crt)):\n",
    "        x = signal[t]\n",
    "        spos = (x - 1, x, x + 1)\n",
    "        crt[t] = \"#\" if t % 40 in spos else \".\"\n",
    "    crt = \"\".join(crt)\n",
    "\n",
    "    return \"\\n\".join(crt[i : i + 40] for i in range(0, 201, 40))\n"
   ]
  },
  {
   "cell_type": "code",
   "execution_count": 2,
   "metadata": {},
   "outputs": [],
   "source": [
    "program = parseProgram(\"test_input.txt\")\n",
    "\n",
    "result, expected = solvePart1(program), 13140\n",
    "assert result == expected, f\"Part 1: {result=} is wrong ({expected=})\"\n",
    "\n",
    "result = solvePart2(program)\n",
    "expected = \"\"\"\\\n",
    "##..##..##..##..##..##..##..##..##..##..\n",
    "###...###...###...###...###...###...###.\n",
    "####....####....####....####....####....\n",
    "#####.....#####.....#####.....#####.....\n",
    "######......######......######......####\n",
    "#######.......#######.......#######.....\"\"\"\n",
    "assert result == expected, f\"Part 2: {result=} is wrong ({expected=})\""
   ]
  },
  {
   "cell_type": "code",
   "execution_count": 3,
   "metadata": {},
   "outputs": [
    {
     "name": "stdout",
     "output_type": "stream",
     "text": [
      "13680\n",
      "###..####..##..###..#..#.###..####.###..\n",
      "#..#....#.#..#.#..#.#.#..#..#.#....#..#.\n",
      "#..#...#..#....#..#.##...#..#.###..###..\n",
      "###...#...#.##.###..#.#..###..#....#..#.\n",
      "#....#....#..#.#....#.#..#....#....#..#.\n",
      "#....####..###.#....#..#.#....####.###..\n"
     ]
    }
   ],
   "source": [
    "program = parseProgram(\"input.txt\")\n",
    "\n",
    "print(solvePart1(program))\n",
    "print(solvePart2(program))"
   ]
  }
 ],
 "metadata": {
  "kernelspec": {
   "display_name": "Python 3.9.7 64-bit",
   "language": "python",
   "name": "python3"
  },
  "language_info": {
   "codemirror_mode": {
    "name": "ipython",
    "version": 3
   },
   "file_extension": ".py",
   "mimetype": "text/x-python",
   "name": "python",
   "nbconvert_exporter": "python",
   "pygments_lexer": "ipython3",
   "version": "3.9.7"
  },
  "orig_nbformat": 4,
  "vscode": {
   "interpreter": {
    "hash": "81794d4967e6c3204c66dcd87b604927b115b27c00565d3d43f05ba2f3a2cb0d"
   }
  }
 },
 "nbformat": 4,
 "nbformat_minor": 2
}

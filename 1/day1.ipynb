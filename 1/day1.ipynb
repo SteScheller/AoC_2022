{
 "cells": [
  {
   "cell_type": "markdown",
   "metadata": {},
   "source": [
    "https://adventofcode.com/2022/day/1"
   ]
  },
  {
   "cell_type": "code",
   "execution_count": 1,
   "metadata": {},
   "outputs": [
    {
     "name": "stdout",
     "output_type": "stream",
     "text": [
      "69528\n",
      "206152\n"
     ]
    }
   ],
   "source": [
    "with open(\"input.txt\") as f:\n",
    "        lines = f.readlines()\n",
    "\n",
    "all, one = list(), list()\n",
    "for item in lines:\n",
    "    line = item.strip().replace(\"\\n\", \"\")\n",
    "    if line:\n",
    "        one.append(int(line))\n",
    "    else:\n",
    "        all.append(sum(one))\n",
    "        one = list()\n",
    "\n",
    "print(max(all))\n",
    "print(sum(sorted(all, reverse=True)[:3]))"
   ]
  }
 ],
 "metadata": {
  "kernelspec": {
   "display_name": "Python 3.9.7 64-bit",
   "language": "python",
   "name": "python3"
  },
  "language_info": {
   "codemirror_mode": {
    "name": "ipython",
    "version": 3
   },
   "file_extension": ".py",
   "mimetype": "text/x-python",
   "name": "python",
   "nbconvert_exporter": "python",
   "pygments_lexer": "ipython3",
   "version": "3.9.7"
  },
  "orig_nbformat": 4,
  "vscode": {
   "interpreter": {
    "hash": "81794d4967e6c3204c66dcd87b604927b115b27c00565d3d43f05ba2f3a2cb0d"
   }
  }
 },
 "nbformat": 4,
 "nbformat_minor": 2
}
